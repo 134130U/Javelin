{
 "cells": [
  {
   "cell_type": "markdown",
   "metadata": {},
   "source": [
    "# Inverted Index\n",
    "\n",
    "Associate a collection of terms (lexicon) with the documents that contain those terms.\n",
    "\n",
    "The data structure is much more dense than a Document Term Matrix.\n"
   ]
  },
  {
   "cell_type": "code",
   "execution_count": 66,
   "metadata": {},
   "outputs": [],
   "source": [
    "# Collection of documents (corpus)\n",
    "\n",
    "review_1 = \"The Glider II is a great soccer ball\"\n",
    "review_2 = \"What a bad soccer ball\"\n",
    "review_3 = \"I am happy with The glider\""
   ]
  },
  {
   "cell_type": "code",
   "execution_count": 67,
   "metadata": {},
   "outputs": [
    {
     "data": {
      "text/plain": [
       "['The Glider II is a great soccer ball',\n",
       " 'What a bad soccer ball',\n",
       " 'I am happy with The glider']"
      ]
     },
     "execution_count": 67,
     "metadata": {},
     "output_type": "execute_result"
    }
   ],
   "source": [
    "docs = [review_1, review_2, review_3]\n",
    "docs"
   ]
  },
  {
   "cell_type": "code",
   "execution_count": 68,
   "metadata": {},
   "outputs": [
    {
     "data": {
      "text/plain": [
       "{'Glider',\n",
       " 'I',\n",
       " 'II',\n",
       " 'The',\n",
       " 'What',\n",
       " 'a',\n",
       " 'am',\n",
       " 'bad',\n",
       " 'ball',\n",
       " 'glider',\n",
       " 'great',\n",
       " 'happy',\n",
       " 'is',\n",
       " 'soccer',\n",
       " 'with'}"
      ]
     },
     "execution_count": 68,
     "metadata": {},
     "output_type": "execute_result"
    }
   ],
   "source": [
    "# Gather the set of all unique terms\n",
    "\n",
    "unique_terms = {term for doc in docs for term in doc.split()}\n",
    "unique_terms"
   ]
  },
  {
   "cell_type": "code",
   "execution_count": 69,
   "metadata": {},
   "outputs": [
    {
     "data": {
      "text/plain": [
       "{'The': {0, 2},\n",
       " 'Glider': {0},\n",
       " 'II': {0},\n",
       " 'is': {0},\n",
       " 'a': {0, 1},\n",
       " 'great': {0},\n",
       " 'soccer': {0, 1},\n",
       " 'ball': {0, 1},\n",
       " 'What': {1},\n",
       " 'bad': {1},\n",
       " 'I': {2},\n",
       " 'am': {2},\n",
       " 'happy': {2},\n",
       " 'with': {2},\n",
       " 'glider': {2}}"
      ]
     },
     "execution_count": 69,
     "metadata": {},
     "output_type": "execute_result"
    }
   ],
   "source": [
    "# Construct an inverted index\n",
    "# here as a Python dictionary for ease of interpretability\n",
    "\n",
    "inverted_index = {}\n",
    "\n",
    "for i, doc in enumerate(docs):\n",
    "    for term in doc.split():\n",
    "        if term in inverted_index:\n",
    "            inverted_index[term].add(i)\n",
    "        else: inverted_index[term] = {i}\n",
    "\n",
    "inverted_index"
   ]
  },
  {
   "cell_type": "code",
   "execution_count": 70,
   "metadata": {},
   "outputs": [],
   "source": [
    "# Now we can get posting lists for any term"
   ]
  },
  {
   "cell_type": "code",
   "execution_count": 71,
   "metadata": {},
   "outputs": [
    {
     "data": {
      "text/plain": [
       "{0, 1}"
      ]
     },
     "execution_count": 71,
     "metadata": {},
     "output_type": "execute_result"
    }
   ],
   "source": [
    "posting_list = inverted_index['soccer']\n",
    "posting_list"
   ]
  },
  {
   "cell_type": "code",
   "execution_count": 72,
   "metadata": {},
   "outputs": [],
   "source": [
    "# We can use the posting lists to locate the documents by ID (here just their ordering in the documents array)\n",
    "# Think of this as a hash table, or a distributed hash table for much larger scenarios"
   ]
  },
  {
   "cell_type": "code",
   "execution_count": 73,
   "metadata": {},
   "outputs": [
    {
     "data": {
      "text/plain": [
       "{'The Glider II is a great soccer ball', 'What a bad soccer ball'}"
      ]
     },
     "execution_count": 73,
     "metadata": {},
     "output_type": "execute_result"
    }
   ],
   "source": [
    "from operator import itemgetter \n",
    "\n",
    "res_list = set(itemgetter(*posting_list)(docs))\n",
    "res_list"
   ]
  },
  {
   "cell_type": "code",
   "execution_count": 74,
   "metadata": {},
   "outputs": [],
   "source": [
    "# Notice now we can perform boolean operations on postings lists for Boolean search operations"
   ]
  },
  {
   "cell_type": "code",
   "execution_count": 75,
   "metadata": {},
   "outputs": [
    {
     "name": "stdout",
     "output_type": "stream",
     "text": [
      "{0, 1}\n",
      "{2}\n"
     ]
    }
   ],
   "source": [
    "posting_list_1 = inverted_index['soccer']\n",
    "posting_list_2 = inverted_index['glider']\n",
    "\n",
    "print(posting_list_1)\n",
    "print(posting_list_2)\n",
    "\n",
    "posting_list = posting_list_1 | posting_list_2\n",
    "\n",
    "# union the results (OR operation)\n",
    "search_result = set(itemgetter(*posting_list)(docs))\n",
    "\n",
    "# likewise we could calculate the intersection (AND operation)"
   ]
  },
  {
   "cell_type": "code",
   "execution_count": 76,
   "metadata": {},
   "outputs": [
    {
     "data": {
      "text/plain": [
       "{'I am happy with The glider',\n",
       " 'The Glider II is a great soccer ball',\n",
       " 'What a bad soccer ball'}"
      ]
     },
     "execution_count": 76,
     "metadata": {},
     "output_type": "execute_result"
    }
   ],
   "source": [
    "search_result"
   ]
  }
 ],
 "metadata": {
  "kernelspec": {
   "display_name": "Python 3",
   "language": "python",
   "name": "python3"
  },
  "language_info": {
   "codemirror_mode": {
    "name": "ipython",
    "version": 3
   },
   "file_extension": ".py",
   "mimetype": "text/x-python",
   "name": "python",
   "nbconvert_exporter": "python",
   "pygments_lexer": "ipython3",
   "version": "3.7.4"
  }
 },
 "nbformat": 4,
 "nbformat_minor": 2
}
