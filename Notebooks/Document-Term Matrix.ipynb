{
 "cells": [
  {
   "cell_type": "markdown",
   "metadata": {},
   "source": [
    "# Document-Term Matrix\n",
    "\n",
    "Sparse representation of the occurence of terms in a document.\n",
    "\n",
    "Used in Latent Semantic Analysis (LSA)"
   ]
  },
  {
   "cell_type": "code",
   "execution_count": null,
   "metadata": {},
   "outputs": [],
   "source": [
    "# Collection of documents (corpus)\n",
    "\n",
    "review_1 = \"The Glider II is a great soccer ball\"\n",
    "review_2 = \"What a bad soccer ball\"\n",
    "review_3 = \"I am happy with The glider\""
   ]
  },
  {
   "cell_type": "code",
   "execution_count": null,
   "metadata": {},
   "outputs": [],
   "source": [
    "docs = [review_1, review_2, review_3]\n",
    "docs"
   ]
  },
  {
   "cell_type": "code",
   "execution_count": null,
   "metadata": {},
   "outputs": [],
   "source": [
    "# Gather the set of all unique terms\n",
    "\n",
    "unique_terms = {term for doc in docs for term in doc.split()}\n",
    "unique_terms"
   ]
  },
  {
   "cell_type": "code",
   "execution_count": null,
   "metadata": {},
   "outputs": [],
   "source": [
    "# Construct a term-document matrix\n",
    "# here as a Python dictionary for ease of interpretability\n",
    "\n",
    "doc_term_matrix = {}\n",
    "\n",
    "for term in unique_terms:\n",
    "    doc_term_matrix[term] = []\n",
    "    \n",
    "    for doc in docs:\n",
    "        if term in doc:\n",
    "            doc_term_matrix[term].append(1)\n",
    "        else: doc_term_matrix[term].append(0)\n",
    "\n",
    "doc_term_matrix"
   ]
  },
  {
   "cell_type": "code",
   "execution_count": null,
   "metadata": {},
   "outputs": [],
   "source": [
    "# The query to find all documents containing \"Glider\" AND \"soccer\"\n",
    "# Is just a bitwise AND:\n",
    "\n",
    "import numpy as np\n",
    "\n",
    "docs_array = np.array(docs, dtype='object')\n",
    "\n",
    "v1 = np.array(doc_term_matrix['Glider'])    \n",
    "v2 = np.array(doc_term_matrix['soccer'])\n",
    "\n",
    "print(v1)\n",
    "print(v2)\n",
    "print('-------')\n",
    "v3 = v1 & v2\n",
    "print(v3)"
   ]
  },
  {
   "cell_type": "code",
   "execution_count": null,
   "metadata": {},
   "outputs": [],
   "source": [
    "# We can now get the matching documents from our corpus with the result\n",
    "[doc for doc in v3 * docs_array if doc]"
   ]
  },
  {
   "cell_type": "code",
   "execution_count": null,
   "metadata": {},
   "outputs": [],
   "source": [
    "v1 = np.array(doc_term_matrix['a'])    \n",
    "v2 = np.array(doc_term_matrix['ball'])\n",
    "\n",
    "print(v1)\n",
    "print(v2)\n",
    "print('-------')\n",
    "v3 = v1 & v2\n",
    "print(v3)"
   ]
  },
  {
   "cell_type": "code",
   "execution_count": null,
   "metadata": {},
   "outputs": [],
   "source": [
    "[doc for doc in v3 * docs_array if doc]"
   ]
  },
  {
   "cell_type": "code",
   "execution_count": null,
   "metadata": {},
   "outputs": [],
   "source": [
    "# Bitwise OR to construct 'this' or 'that' queries."
   ]
  },
  {
   "cell_type": "code",
   "execution_count": null,
   "metadata": {},
   "outputs": [],
   "source": [
    "v1 = np.array(doc_term_matrix['great'])    \n",
    "v2 = np.array(doc_term_matrix['bad'])\n",
    "\n",
    "print(v1)\n",
    "print(v2)\n",
    "print('-------')\n",
    "v3 = v1 | v2\n",
    "print(v3)"
   ]
  },
  {
   "cell_type": "code",
   "execution_count": null,
   "metadata": {},
   "outputs": [],
   "source": [
    "[doc for doc in v3 * docs_array if doc]"
   ]
  },
  {
   "cell_type": "code",
   "execution_count": null,
   "metadata": {},
   "outputs": [],
   "source": []
  }
 ],
 "metadata": {
  "kernelspec": {
   "display_name": "Python 3",
   "language": "python",
   "name": "python3"
  },
  "language_info": {
   "codemirror_mode": {
    "name": "ipython",
    "version": 3
   },
   "file_extension": ".py",
   "mimetype": "text/x-python",
   "name": "python",
   "nbconvert_exporter": "python",
   "pygments_lexer": "ipython3",
   "version": "3.7.4"
  }
 },
 "nbformat": 4,
 "nbformat_minor": 2
}
